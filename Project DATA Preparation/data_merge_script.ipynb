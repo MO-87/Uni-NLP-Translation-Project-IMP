{
 "cells": [
  {
   "cell_type": "code",
   "execution_count": 1,
   "id": "6c03f478",
   "metadata": {},
   "outputs": [],
   "source": [
    "import pandas as pd\n",
    "import os"
   ]
  },
  {
   "cell_type": "code",
   "execution_count": null,
   "id": "d24ae107",
   "metadata": {},
   "outputs": [],
   "source": [
    "import pandas as pd\n",
    "import os\n",
    "\n",
    "folder_path = 'DATA'\n",
    "output_rows = []\n",
    "\n",
    "for file in os.listdir(folder_path):\n",
    "    if file.endswith('.xlsx'):\n",
    "        file_path = os.path.join(folder_path, file)\n",
    "        try:\n",
    "            df = pd.read_excel(file_path, engine='openpyxl')\n",
    "\n",
    "            if file == \"Song-Lyrics.xlsx\":\n",
    "                selected_df = df[[\"English Translation\", \"Egyptian Arabic Lyrics\"]]\n",
    "            else:\n",
    "                selected_df = df.iloc[:, [1, 0]]\n",
    "\n",
    "            selected_df.dropna(inplace=True)\n",
    "            selected_df.columns = [\"source\", \"target\"]\n",
    "\n",
    "            output_rows.append(selected_df)\n",
    "            print(f\"Processed: {file} with {len(selected_df)} pairs.\")\n",
    "\n",
    "        except Exception as e:\n",
    "            print(f\"Error reading {file}: {e}\")\n",
    "\n",
    "final_df = pd.concat(output_rows, ignore_index=True)\n",
    "final_df = final_df.drop_duplicates()"
   ]
  },
  {
   "cell_type": "code",
   "execution_count": 21,
   "id": "f83bf65b",
   "metadata": {},
   "outputs": [
    {
     "data": {
      "text/plain": [
       "(22422, 2)"
      ]
     },
     "execution_count": 21,
     "metadata": {},
     "output_type": "execute_result"
    }
   ],
   "source": [
    "final_df.shape"
   ]
  },
  {
   "cell_type": "code",
   "execution_count": 22,
   "id": "4c019a58",
   "metadata": {},
   "outputs": [],
   "source": [
    "final_df.to_csv('EN-EGP.csv', index=False)"
   ]
  }
 ],
 "metadata": {
  "kernelspec": {
   "display_name": "base",
   "language": "python",
   "name": "python3"
  },
  "language_info": {
   "codemirror_mode": {
    "name": "ipython",
    "version": 3
   },
   "file_extension": ".py",
   "mimetype": "text/x-python",
   "name": "python",
   "nbconvert_exporter": "python",
   "pygments_lexer": "ipython3",
   "version": "3.12.9"
  }
 },
 "nbformat": 4,
 "nbformat_minor": 5
}
